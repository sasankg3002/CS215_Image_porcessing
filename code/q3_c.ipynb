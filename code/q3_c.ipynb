{
  "nbformat": 4,
  "nbformat_minor": 0,
  "metadata": {
    "colab": {
      "name": "q3_c.ipynb",
      "provenance": []
    },
    "kernelspec": {
      "name": "python3",
      "display_name": "Python 3"
    },
    "language_info": {
      "name": "python"
    }
  },
  "cells": [
    {
      "cell_type": "code",
      "metadata": {
        "id": "a6nqPxEL2EWK"
      },
      "source": [
        "import h5py\n",
        "import numpy as np\n",
        "import pandas as pd\n",
        "import matplotlib.pyplot as plt\n"
      ],
      "execution_count": null,
      "outputs": []
    },
    {
      "cell_type": "code",
      "metadata": {
        "colab": {
          "base_uri": "https://localhost:8080/"
        },
        "id": "kEw1MJhd2Lak",
        "outputId": "a2d7667c-db4a-4ddf-e372-c74eaa300c92"
      },
      "source": [
        "x1=h5py.File('points2D_Set2.mat','r')\n",
        "x_arr_1=x1.get('x')\n",
        "x_arr_1=np.array(x_arr_1)\n",
        "x_arr_2=x1.get('y')\n",
        "x_arr_2=np.array(x_arr_2)\n",
        "app=[]\n",
        "for i in range(300):\n",
        "   app.append([[x_arr_1[0][i]],[x_arr_2[0][i]]])\n",
        "app=np.array(app,dtype='float32')"
      ],
      "execution_count": null,
      "outputs": [
        {
          "output_type": "stream",
          "name": "stdout",
          "text": [
            "(1, 1000)\n"
          ]
        }
      ]
    },
    {
      "cell_type": "code",
      "metadata": {
        "id": "O5qwltQd2N4S"
      },
      "source": [
        "#returns transpose of matrix\n",
        "def trans(arr):\n",
        "    x,y=np.shape(arr)\n",
        "    xarr=np.zeros((y,x))\n",
        "    for i in range(x):\n",
        "      for j in range(y):\n",
        "          xarr[j][i]=arr[i][j]\n",
        "    return xarr\n",
        "#returns covariance\n",
        "def cov(arr):\n",
        "  x_m=np.sum(app[:,0,0])/app.shape[0]\n",
        "  y_m=np.sum(app[:,1,0])/app.shape[0]\n",
        "  mean=[[x_m],[y_m]]\n",
        "  x=arr.shape[0]\n",
        "  mat=np.zeros((arr.shape[1],arr.shape[1]))\n",
        "  for i in arr:\n",
        "    mat=mat+np.matmul(i-mean,trans(i-mean))\n",
        "  return mat/x\n",
        "#returns priciple component first one !\n",
        "def principle_comp(C):\n",
        "  W,V=np.linalg.eig(C)\n",
        "  vect=V[:,np.argmax(W)]\n",
        "  return vect\n",
        "#will generate one array if outputs for each input\n",
        "def get_y(x,vect):\n",
        "  x_m=np.sum(app[:,0,0])/app.shape[0]\n",
        "  y_m=np.sum(app[:,1,0])/app.shape[0]\n",
        "  arr=[]\n",
        "  for i in x:\n",
        "      arr.append((vect[1]/vect[0])*(i-x_m)+y_m)\n",
        "  return np.array(arr)\n"
      ],
      "execution_count": null,
      "outputs": []
    },
    {
      "cell_type": "code",
      "metadata": {
        "colab": {
          "base_uri": "https://localhost:8080/",
          "height": 295
        },
        "id": "Ank77iKo2RU5",
        "outputId": "6a326310-62e8-4988-ed65-72f295f4d886"
      },
      "source": [
        "vect=principle_comp(cov(app))\n",
        "plt.xlabel('x->')\n",
        "plt.ylabel('y')\n",
        "plt.title('scatter plot for data set 1')\n",
        "plt.scatter(app[:,0,0],app[:,1,0])\n",
        "plt.plot([-1.5,1.5],get_y([-1.5,1.5],vect),'r-')\n",
        "plt.show()\n"
      ],
      "execution_count": null,
      "outputs": [
        {
          "output_type": "display_data",
          "data": {
            "image/png": "[encoded data removed]",
            "text/plain": [
              "<Figure size 432x288 with 1 Axes>"
            ]
          },
          "metadata": {
            "needs_background": "light"
          }
        }
      ]
    }
  ]
}